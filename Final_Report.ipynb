{
  "nbformat": 4,
  "nbformat_minor": 0,
  "metadata": {
    "colab": {
      "name": "Untitled0.ipynb",
      "provenance": [],
      "toc_visible": true,
      "authorship_tag": "ABX9TyNZWXys9Po+YvGitLeXiouQ",
      "include_colab_link": true
    },
    "kernelspec": {
      "name": "python3",
      "display_name": "Python 3"
    }
  },
  "cells": [
    {
      "cell_type": "markdown",
      "metadata": {
        "id": "view-in-github",
        "colab_type": "text"
      },
      "source": [
        "<a href=\"https://colab.research.google.com/github/jdeweese1/ENGL_415_Final_Report/blob/master/Final_Report.ipynb\" target=\"_parent\"><img src=\"https://colab.research.google.com/assets/colab-badge.svg\" alt=\"Open In Colab\"/></a>"
      ]
    },
    {
      "cell_type": "markdown",
      "metadata": {
        "id": "RTNzPc7INUtS",
        "colab_type": "text"
      },
      "source": [
        "# Practical overview of Data Visualizations and Data Science and Best Practices: An Overview\n",
        "#### Jarod J. DeWeese, Kansas State University\n",
        "\n",
        "\n",
        "## Abstract\n",
        "  ### Definitions\n",
        "  - Data Science - TODO\n",
        "  - Data Visualization - TODO\n",
        "\n",
        "## Introduction\n",
        "This report by no means is meant to be a comprehensive guide to every technique, language and framework that can be used to analyze data. Rather, this report aims to be a \"survey\" that increases the reader's exposure to such concepts and offers resources for learning more about the concepts covered here.\n",
        "\n",
        "### About the format (Jupyter notebook)\n",
        "As you've no doubt noticed, this report is in a bit of an untraditional format. Rather than opt for a static document such as a Microsoft Word or Google doc, I chose a [Jupyter](https://jupyter.org/) notebook.\n",
        "\n",
        "## Body TODO\n",
        "For the purposes of this report I will the language I will primarily cover is the Python programming language, as it is currently the leading language academics and industry professionals use for data science work. In addition to it's prevalance in the real world, the Python tools and frameworks can be run interactively inside this Jupyter notebook allowing from greater depth of exploration of such tools.\n",
        "\n",
        "### Exploration of the Jupyter notebook format\n",
        "Because Jupyter notebooks are such an integral part of how many information professionals wrangle data, having an understanding of how to best use this format will put you well on your way to developing an understanding of your data.\n",
        "\n",
        "### How to find resources\n",
        "\n",
        "- Talk Python to me\n",
        "- Those on my resources.md"
      ]
    },
    {
      "cell_type": "code",
      "metadata": {
        "id": "WrWn8H8PbH7Q",
        "colab_type": "code",
        "colab": {}
      },
      "source": [
        ""
      ],
      "execution_count": 0,
      "outputs": []
    }
  ]
}