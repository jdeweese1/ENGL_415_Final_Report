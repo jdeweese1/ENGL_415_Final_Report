{
  "nbformat": 4,
  "nbformat_minor": 0,
  "metadata": {
    "colab": {
      "name": "Untitled0.ipynb",
      "provenance": [],
      "authorship_tag": "ABX9TyP/p4IJ7aJIv8f6D+xjKjk7",
      "include_colab_link": true
    },
    "kernelspec": {
      "name": "python3",
      "display_name": "Python 3"
    }
  },
  "cells": [
    {
      "cell_type": "markdown",
      "metadata": {
        "id": "view-in-github",
        "colab_type": "text"
      },
      "source": [
        "<a href=\"https://colab.research.google.com/github/jdeweese1/ENGL_415_Final_Report/blob/master/Final_Report.ipynb\" target=\"_parent\"><img src=\"https://colab.research.google.com/assets/colab-badge.svg\" alt=\"Open In Colab\"/></a>"
      ]
    },
    {
      "cell_type": "markdown",
      "metadata": {
        "id": "RTNzPc7INUtS",
        "colab_type": "text"
      },
      "source": [
        "# Practical overview of Data Visualizations and Data Science and Best Practices: An Overview\n",
        "#### Jarod J. DeWeese, Kansas State University\n",
        "\n",
        "\n",
        "## Abstract\n",
        "  ### Definitions\n",
        "  - Data Science - TODO\n",
        "  - Data Visualization - TODO\n",
        "\n",
        "## Introduction\n",
        "This report by no means is meant to be a comprehensive guide to every technique, language and framework that can be used to analyze data. Rather, this report aims to be a \"survey\" that increases the reader's exposure to such concepts and offers resources for learning more about the concepts covered here.\n",
        "\n",
        "### About the format (Jupyter notebook)\n",
        "As you've no doubt noticed, this report is in a bit of an untraditional format. Rather than opt for a static document such as a Microsoft Word or Google doc, I chose a [Jupyter](https://jupyter.org/) notebook.\n",
        "\n",
        "## Body TODO\n",
        "For the purposes of this report I will the language I will primarily cover is the Python programming language, as it is currently the leading language academics and industry professionals use for data science work. In addition to it's prevalance in the real world, the Python tools and frameworks can be run interactively inside this Jupyter notebook allowing from greater depth of exploration of such tools. \n",
        "\n",
        "### Exploration of the Jupyter notebook format\n",
        "Because Jupyter notebooks are such an integral part of how many information professionals wrangle data, having an understanding of how to best use this format will put you well on your way to developing an understanding of your data. A few features of the notebook that will prove useful are as follows: ability to run real code inside of the notebook, easily obtaining user input inside a notebook, ability to install third party packages to extend functionality, and use the simple, human readable syntax of [Markdown](https://daringfireball.net/projects/markdown/) to format your notebook. \n",
        "\n",
        "Because this such a widespread format, there are integrations with many different services supporting the notebooks. For instance, I'm writing this report using Google Colab and I can then easily save into my GitHub repo. If there's a tool you'd like to use, but can't find one, you can develop your own solution and share it with the world!\n",
        "\n",
        "Below see an example of an investment calculator highlighting some of the features mentioned above. With this simple markdown form, enter the principal of your investment, investment life span, and yearly interest rate. This code snippet will then tell you the value of the investment when it matures."
      ]
    },
    {
      "cell_type": "code",
      "metadata": {
        "id": "8OM2qAfWb__6",
        "colab_type": "code",
        "colab": {
          "base_uri": "https://localhost:8080/",
          "height": 34
        },
        "outputId": "0774c0d9-1c80-41e5-eaa8-3c3f9e5553f7"
      },
      "source": [
        "#@title Compound interest calculator\n",
        "#@markdown Enter data the below fields then hit the play button on the code box.\n",
        "\n",
        "investment_principal_dollars = 100  #@param {type: \"number\"}\n",
        "investment_timespan_years = 30 #@param {type: \"number\"}\n",
        "yearly_interest_rate = .05 #@param {type: \"number\", min:\"0\", max:\".9\"}\n",
        "from math import e\n",
        "\n",
        "\n",
        "def do_interest(p:Union[int, float], r:float, years:int) -> float:\n",
        "    assert 0 <= r <= 1\n",
        "    n=4 # Assume compounded quarterly for simplicity.\n",
        "    adjusted_rate = 1+r/n\n",
        "    return p * (adjusted_rate)**(n*years)\n",
        "\n",
        "\n",
        "\n",
        "final_money = do_interest(p=investment_principal_dollars, r=yearly_interest_rate, years=investment_timespan_years)\n",
        "\n",
        "print(f'After investing ${investment_principal_dollars} at {yearly_interest_rate*100}% for {investment_timespan_years} years you will have ${final_money}')\n"
      ],
      "execution_count": 11,
      "outputs": [
        {
          "output_type": "stream",
          "text": [
            "After investing $100 at 5.0% for 30 years you will have $444.0213228939222\n"
          ],
          "name": "stdout"
        }
      ]
    },
    {
      "cell_type": "markdown",
      "metadata": {
        "id": "lS0aZry-kzHK",
        "colab_type": "text"
      },
      "source": [
        "\n",
        "### Data Visualization\n",
        "## Why visualize data?\n",
        "As researcher or scientist, most of the data we collect and analyze will be in tabular form. While this is great and makes it much easier to crunch the numbers, raw data is hard for non-technical people to understand. Executives, grant committes, and funding agencies likely don't care about the intricacies of your research, they want to know that their resources are being well spent. When these stakeholders see your report, the likely will not all of the text, but are much more likely to stop and look at the visualizations you've provided.\n",
        "\n",
        "Here are a few takeaways that apply to the majority of data visualization techniques:\n",
        "- Graphs and charts should explain themselves, the reader should not have to read the surrounding text to understand the data being presented. - [NCBI](https://www.ncbi.nlm.nih.gov/pmc/articles/PMC4008059/)\n",
        "- In addition to the absolute numbers, including what ratio of the whole if possible serves to contextualize the data being presented. For example during the fall semester of 2019, [K-State had a student enrollment of 21,719](https://www.k-state.edu/registrar/statistics/enrbyyr.html), however that absolute number on its own doesn't mean very much as we can't contextualize it. However if we know that enrollment was 22,221 the year before we can calculate that enrollment is down by 500 students, or 2.3%. Other ways to contextualize data include examining growth or acceleration rates, change from mean and standard deviation. By using these techniques, your figures will be descriptive, as well as more useful in proving impacts to your stakeholders. \n",
        "- Figures make the most sense when they have proper labels. This includes labeling the legend, axises including units, as well as making sure the figure has a descriptive title.\n",
        "\n",
        "## Case Studies - COVID-19 graphs\n",
        "I will critique two data visualizations that have been developed to track the spread of COVID-19 around the globe: [COVID-19 Pink](https://covid19.pink/world)\n",
        "![uh oh](https://drive.google.com/uc?id=1nnBXBN6ZTkZq2BB4AJI8jGpSmTmNAyBX) and [Aatishb's Covid Trends Site](https://aatishb.com/covidtrends/) ![](https://drive.google.com/uc?id=1Z9aQmGqR2EPFWce3Gas08fafpOn_ccb8).\n",
        "\n",
        "Both of these graphs provide time analysis depictions of the number of COVID-19. However the the Pink site is better at immediately conveying information of which areas of the world have the most cases, as well as the total number of cases via heat map. However, after looking at the trends dashboard for a moment you realize it carries more information than the other. This graph shows number of cases, as well as **case trajectory**, which is the more important metric to follow when assessing the severity of a virus that can spread exponentially. \n",
        "\n",
        "For both of these sites, they offer a slider that allows you to visualize the spread **through time**, or for any slice of time for which they have data for. For the Pink site, this control can be found across the app, allowing for a greater degree of analysis\n",
        "\n",
        "The Pink site provides a variety of useful tools for tracking the spread of COVID-19 including a heatmap of each country, as well as providing the number of confirmed cases, deaths, and fatality rate, conveniently on one graph. By leveraging visualization libraries in JavaScript, they were able to make the site mor dynamic by adding hover and help text to help the better interpret the data they are looking at.\n",
        "\n",
        "The Pink site also provides a case trajectory page, however it conveys much less information than the Trends site. This is mostly due to the fact that\n",
        "\n",
        "\n",
        "---\n",
        "\n",
        "\n",
        "### Visualization tools\n",
        "- Matplotlib\n",
        "- Plotly\n",
        "\n",
        "\n",
        "\n",
        "### How to find resources\n",
        "\n",
        "- Talk Python to me\n",
        "- Those on my resources.md"
      ]
    },
    {
      "cell_type": "markdown",
      "metadata": {
        "id": "e-jzP5rq4YB6",
        "colab_type": "text"
      },
      "source": [
        ""
      ]
    }
  ]
}